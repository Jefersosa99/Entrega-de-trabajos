{
 "cells": [
  {
   "cell_type": "markdown",
   "metadata": {},
   "source": [
    "## Taken from the Prework course of the PGP AIML at The University of Texas"
   ]
  },
  {
   "cell_type": "markdown",
   "metadata": {},
   "source": [
    "# CONDITIONAL STATEMENTS EXERCISE"
   ]
  },
  {
   "cell_type": "markdown",
   "metadata": {},
   "source": [
    "---------------"
   ]
  },
  {
   "cell_type": "markdown",
   "metadata": {},
   "source": [
    "### 1. Check if a is equal to 10, If yes, print \"Hello\", else print \"Good Bye\"\n",
    "a = 56"
   ]
  },
  {
   "cell_type": "code",
   "execution_count": 4,
   "metadata": {},
   "outputs": [
    {
     "name": "stdout",
     "output_type": "stream",
     "text": [
      "Good Bye\n"
     ]
    }
   ],
   "source": [
    "a = 56\n",
    "if a == 10:\n",
    "    print(\"Hello\")\n",
    "else:\n",
    "    print(\"Good Bye\")"
   ]
  },
  {
   "cell_type": "markdown",
   "metadata": {},
   "source": [
    "### 2. Check whether a number is even or odd\n",
    "a = 2020"
   ]
  },
  {
   "cell_type": "code",
   "execution_count": 5,
   "metadata": {},
   "outputs": [
    {
     "name": "stdout",
     "output_type": "stream",
     "text": [
      "Es par\n"
     ]
    }
   ],
   "source": [
    "a = 2020\n",
    "if a % 2 == 0:\n",
    "    print(\"Es par\")\n",
    "else:\n",
    "    print(\"Impar\")"
   ]
  },
  {
   "cell_type": "markdown",
   "metadata": {},
   "source": [
    "### 3.  Check whether the area of the rectangle is greater than the perimeter of the rectangle\n",
    "length = 5\n",
    "breadth = 10\n",
    "\n",
    "Hint: Area of rectangle = length * breadth \n",
    "\n",
    "Hint: Perimeter of rectangle = 2 * (length + breadth)"
   ]
  },
  {
   "cell_type": "code",
   "execution_count": 7,
   "metadata": {},
   "outputs": [
    {
     "name": "stdout",
     "output_type": "stream",
     "text": [
      "El área es mayor que el perimetro\n"
     ]
    }
   ],
   "source": [
    "lenght = 5\n",
    "breadth = 10\n",
    "Area_rectangulo = lenght * breadth\n",
    "Perimetro_rectangulo = 2 * (lenght+breadth)\n",
    "if Area_rectangulo > Perimetro_rectangulo:\n",
    "    print(\"El área es mayor que el perimetro\")\n",
    "else:\n",
    "    print(\"El perimetro es mayor\")"
   ]
  },
  {
   "cell_type": "markdown",
   "metadata": {},
   "source": [
    "### 4.Calculate the average marks of a student in 5 subjects and give grades accordingly:\n",
    "If average>90 then Grade = A\n",
    "\n",
    "If average>80 then Grade = B\n",
    "\n",
    "If average>70 then Grade = C\n",
    "\n",
    "If average>60 then Grade = D\n",
    "\n",
    "If average>50 then Grade = E\n",
    "\n",
    "else Fail\n",
    "\n",
    "Marks in subject 1= 72\n",
    "\n",
    "Marks in subject 2= 85\n",
    "\n",
    "Marks in subject 3= 96\n",
    "\n",
    "Marks in subject 4= 42\n",
    "\n",
    "Marks in subject 5= 95"
   ]
  },
  {
   "cell_type": "code",
   "execution_count": 8,
   "metadata": {},
   "outputs": [
    {
     "name": "stdout",
     "output_type": "stream",
     "text": [
      "Grado C\n"
     ]
    }
   ],
   "source": [
    "subject_1 = 72\n",
    "subject_2 = 85\n",
    "subject_3 = 96\n",
    "subject_4 = 42\n",
    "subject_5 = 95\n",
    "promedio_subject = (subject_1+subject_2+subject_3+subject_4+subject_5)/5\n",
    "if promedio_subject > 90:\n",
    "    print(\"Grado A\")\n",
    "elif promedio_subject > 80:\n",
    "    print(\"Grado B\")\n",
    "elif promedio_subject > 70:\n",
    "    print(\"Grado C\")\n",
    "elif promedio_subject > 60:\n",
    "    print(\"Grado D\")\n",
    "elif promedio_subject > 50:\n",
    "    print(\"Grado E\")\n",
    "else:\n",
    "    print(\"Pailas perdió\")"
   ]
  },
  {
   "cell_type": "markdown",
   "metadata": {},
   "source": [
    "###  5.check if a triangle is equilateral, isosceles or scalene.\n",
    "\n",
    "Hint :\n",
    "1. An equilateral triangle is a triangle in which all three sides are equal.\n",
    "\n",
    "2. A scalene triangle is a triangle that has three unequal sides.\n",
    "\n",
    "3. An isosceles triangle is a triangle with (at least) two equal sides.\n",
    "\n",
    "Dimensions of triangle:\n",
    "\n",
    "side 1 = 6 \n",
    "\n",
    "side 2 = 8 \n",
    "\n",
    "side 3 = 12"
   ]
  },
  {
   "cell_type": "code",
   "execution_count": 9,
   "metadata": {},
   "outputs": [
    {
     "name": "stdout",
     "output_type": "stream",
     "text": [
      "Es un triangulo escaleno\n"
     ]
    }
   ],
   "source": [
    "lado_uno = 6\n",
    "lado_dos = 8\n",
    "lado_tres = 12\n",
    "if lado_uno == lado_dos and lado_dos == lado_tres:\n",
    "    print(\"Es un triangulo equilatero\")\n",
    "elif lado_uno != lado_dos and lado_dos != lado_tres:\n",
    "    print(\"Es un triangulo escaleno\")\n",
    "else:\n",
    "    print(\"Es un triangulo isoceles\")"
   ]
  },
  {
   "cell_type": "markdown",
   "metadata": {},
   "source": [
    "### 6. Check if the word \"Data\" is present in the sentence \"I am a Data Scientist\". If found print \"It is present\" else print FALSE"
   ]
  },
  {
   "cell_type": "code",
   "execution_count": 11,
   "metadata": {},
   "outputs": [
    {
     "name": "stdout",
     "output_type": "stream",
     "text": [
      "It is present\n"
     ]
    }
   ],
   "source": [
    "oracion = \"I am a Data Scientist\"\n",
    "if \"Data\" in oracion:\n",
    "    print(\"It is present\")\n",
    "else:\n",
    "    print(\"False\") "
   ]
  },
  {
   "cell_type": "markdown",
   "metadata": {},
   "source": [
    "### 7. Write python code to check if a number is positive or negative."
   ]
  },
  {
   "cell_type": "code",
   "execution_count": 6,
   "metadata": {},
   "outputs": [
    {
     "name": "stdout",
     "output_type": "stream",
     "text": [
      "Error: Por favor ingrese un número válido (sin letras ni símbolos)\n",
      "FIN.\n"
     ]
    }
   ],
   "source": [
    "### Sistema de número positivo o negativo\n",
    "try:\n",
    "    usuario = float(input(\"Digite un número: \"))\n",
    "    if usuario < 0:\n",
    "        print(\"El número es negativo\")\n",
    "    else:\n",
    "        print(\"El número es positivo\")\n",
    "except ValueError:\n",
    "    print(\"Error: Por favor ingrese un número válido (sin letras ni símbolos)\")\n",
    "    \n",
    "print(\"FIN.\")\n"
   ]
  },
  {
   "cell_type": "markdown",
   "metadata": {},
   "source": [
    "### 8. x = 20 and y = 30. Write a python code to check if x is less than y."
   ]
  },
  {
   "cell_type": "code",
   "execution_count": 8,
   "metadata": {},
   "outputs": [
    {
     "name": "stdout",
     "output_type": "stream",
     "text": [
      "El numero 20 es menor que 30\n"
     ]
    }
   ],
   "source": [
    "x = 20\n",
    "y = 30\n",
    "if x < y:\n",
    "    print(f\"El numero {x} es menor que {y}\")"
   ]
  },
  {
   "cell_type": "markdown",
   "metadata": {},
   "source": [
    "### 9. Based on the users age, divide them into three groups \n",
    "    Group 1 : Age <18 , Minors who are not eligible to work\n",
    "    Group 2 : 18 < Age < 60 , Eligible to work\n",
    "    Group 3 : Age > 60, Too old to work as per govt. regulations. \n",
    "\n",
    "### Write a python code for the same"
   ]
  },
  {
   "cell_type": "code",
   "execution_count": 11,
   "metadata": {},
   "outputs": [
    {
     "name": "stdout",
     "output_type": "stream",
     "text": [
      "Elegible para trabajar\n",
      "FIN\n"
     ]
    }
   ],
   "source": [
    "try:\n",
    "    edad = int(input(\"Solicite un numero del 18 al 100\"))\n",
    "    if edad < 18:\n",
    "        print(\"Menor edad no son elegible para trabajar\")\n",
    "    elif edad > 18 and edad < 60:\n",
    "        print(\"Elegible para trabajar\")\n",
    "    else:\n",
    "        print(\"Demasiado viejo para trabajar\")\n",
    "except ValueError:\n",
    "    print(\"Error: por favor digite un número valido (sin letras ni simbolos)\")\n",
    "print(\"FIN\")"
   ]
  },
  {
   "cell_type": "markdown",
   "metadata": {},
   "source": [
    "### 10. From the age of 3 people determine the oldest person among them.\n",
    "Age of first person = 25\n",
    "\n",
    "Age of second person = 34\n",
    "\n",
    "Age of third person = 45"
   ]
  },
  {
   "cell_type": "code",
   "execution_count": 12,
   "metadata": {},
   "outputs": [
    {
     "name": "stdout",
     "output_type": "stream",
     "text": [
      "Tercera persona es la mayor de los 3\n"
     ]
    }
   ],
   "source": [
    "first_person = 25\n",
    "\n",
    "Second_person = 34\n",
    "\n",
    "Third_person = 45\n",
    "\n",
    "if first_person > Second_person and first_person > Third_person:\n",
    "    print(\"Primera persona es la mayor de los 3\")\n",
    "elif Second_person > first_person and Second_person > Third_person:\n",
    "    print(\"Segunda persona es la mayor de los 3\")\n",
    "elif Third_person > first_person and Third_person > Second_person:\n",
    "    print(\"Tercera persona es la mayor de los 3\")\n"
   ]
  }
 ],
 "metadata": {
  "kernelspec": {
   "display_name": "Python 3",
   "language": "python",
   "name": "python3"
  },
  "language_info": {
   "codemirror_mode": {
    "name": "ipython",
    "version": 3
   },
   "file_extension": ".py",
   "mimetype": "text/x-python",
   "name": "python",
   "nbconvert_exporter": "python",
   "pygments_lexer": "ipython3",
   "version": "3.11.5"
  }
 },
 "nbformat": 4,
 "nbformat_minor": 4
}
