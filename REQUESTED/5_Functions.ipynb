{
 "cells": [
  {
   "cell_type": "markdown",
   "metadata": {},
   "source": [
    "## Taken from the Prework course of the PGP AIML at The University of Texas"
   ]
  },
  {
   "cell_type": "markdown",
   "metadata": {},
   "source": [
    "# USER DEFINED FUNCTION AND LAMBDA FUNCTIONS EXERCISE"
   ]
  },
  {
   "cell_type": "markdown",
   "metadata": {},
   "source": [
    "------------"
   ]
  },
  {
   "cell_type": "markdown",
   "metadata": {},
   "source": [
    "### 1.Write a function to add, subtract, multiply and divide two variables passed to it and print the result "
   ]
  },
  {
   "cell_type": "code",
   "execution_count": null,
   "metadata": {},
   "outputs": [],
   "source": [
    "def operaciones(a, b):\n",
    "    print(\"Suma:\", a + b)\n",
    "    print(\"Resta:\", a - b)\n",
    "    print(\"Multiplicación:\", a * b)\n",
    "    \n",
    "    if b != 0:\n",
    "        print(\"División:\", a / b)\n",
    "    else:\n",
    "        print(\"División: No se puede dividir entre 0\")\n",
    "\n",
    "# Ejemplo de uso\n",
    "operaciones(10, 5)\n"
   ]
  },
  {
   "cell_type": "markdown",
   "metadata": {},
   "source": [
    "### 2.Write a Python function given range (1,10) both included, that gives the square of every number"
   ]
  },
  {
   "cell_type": "code",
   "execution_count": 4,
   "metadata": {},
   "outputs": [
    {
     "name": "stdout",
     "output_type": "stream",
     "text": [
      "El cuadrado de 1 es 1\n",
      "El cuadrado de 2 es 4\n",
      "El cuadrado de 3 es 9\n",
      "El cuadrado de 4 es 16\n",
      "El cuadrado de 5 es 25\n",
      "El cuadrado de 6 es 36\n",
      "El cuadrado de 7 es 49\n",
      "El cuadrado de 8 es 64\n",
      "El cuadrado de 9 es 81\n",
      "El cuadrado de 10 es 100\n"
     ]
    }
   ],
   "source": [
    "def cuadrados_en_rango(inicio, fin):\n",
    "    for i in range(inicio, fin + 1):\n",
    "        print(f\"El cuadrado de {i} es {i ** 2}\")\n",
    "cuadrados_en_rango(1, 10)"
   ]
  },
  {
   "cell_type": "markdown",
   "metadata": {},
   "source": [
    "### 3.Write a function to calculate simple interest\n",
    "\n",
    "simple interest = (Principal amount * Annual Rate of interest * Time(in years))/100\n",
    "\n",
    "Take values as follows\n",
    "\n",
    "Principal Amount = 1000\n",
    "\n",
    "Rate of interest = 3%\n",
    "\n",
    "Time = 5 years"
   ]
  },
  {
   "cell_type": "code",
   "execution_count": 3,
   "metadata": {},
   "outputs": [
    {
     "name": "stdout",
     "output_type": "stream",
     "text": [
      "Interés simple = 150.0\n"
     ]
    }
   ],
   "source": [
    "def calcular_interes_simple(principal, tasa, tiempo):\n",
    "    interes = (principal * tasa * tiempo) / 100\n",
    "    print(\"Interés simple =\", interes)\n",
    "\n",
    "calcular_interes_simple(1000, 3, 5)"
   ]
  },
  {
   "cell_type": "markdown",
   "metadata": {},
   "source": [
    "### 4. Write a function to check the number is divisible by 25. The function should return True if divisible and \"Not divisible\" if not"
   ]
  },
  {
   "cell_type": "code",
   "execution_count": null,
   "metadata": {},
   "outputs": [],
   "source": [
    "def es_divisible_por_25(numero):\n",
    "    if numero % 25 == 0:\n",
    "        return True\n",
    "    else:\n",
    "        return \"Not divisible\"\n",
    "    \n",
    "print(es_divisible_por_25(100))\n",
    "print(es_divisible_por_25(42))"
   ]
  },
  {
   "cell_type": "markdown",
   "metadata": {},
   "source": [
    "### 5.Define a function that takes an input, squares it, adds 5, then returns the answer"
   ]
  },
  {
   "cell_type": "code",
   "execution_count": null,
   "metadata": {},
   "outputs": [],
   "source": [
    "def operar_numero(x):\n",
    "    resultado = x**2 + 5\n",
    "    return resultado\n",
    "print(operar_numero(3))"
   ]
  },
  {
   "cell_type": "markdown",
   "metadata": {},
   "source": [
    "### 6.Using lambda function perform the following task : take an input, squares it, add 5, then return the answer"
   ]
  },
  {
   "cell_type": "code",
   "execution_count": null,
   "metadata": {},
   "outputs": [],
   "source": [
    "operacion = lambda x: x**2 + 5\n",
    "print(operacion(3))"
   ]
  },
  {
   "cell_type": "markdown",
   "metadata": {},
   "source": [
    "### 7. Write a function to calculate the power of a number raised to other ($a^b$)"
   ]
  },
  {
   "cell_type": "code",
   "execution_count": 5,
   "metadata": {},
   "outputs": [
    {
     "name": "stdout",
     "output_type": "stream",
     "text": [
      "8\n",
      "1\n",
      "81\n"
     ]
    }
   ],
   "source": [
    "def potencia(a, b):\n",
    "    return a ** b\n",
    "\n",
    "print(potencia(2, 3)) \n",
    "print(potencia(5, 0)) \n",
    "print(potencia(3, 4)) \n"
   ]
  },
  {
   "cell_type": "markdown",
   "metadata": {},
   "source": [
    "### 8. Write a function to calculate the area of a triangle\n",
    "\n",
    "area of triangle = 1/2 * base * height"
   ]
  },
  {
   "cell_type": "code",
   "execution_count": 6,
   "metadata": {},
   "outputs": [
    {
     "name": "stdout",
     "output_type": "stream",
     "text": [
      "Área del triángulo: 25.0\n"
     ]
    }
   ],
   "source": [
    "def area_triangulo(base, altura):\n",
    "    area = 0.5 * base * altura\n",
    "    return area\n",
    "print(\"Área del triángulo:\", area_triangulo(10, 5))"
   ]
  },
  {
   "cell_type": "markdown",
   "metadata": {},
   "source": [
    "### 9. Create a function that takes country as the input and returns \"I am from *Country* \""
   ]
  },
  {
   "cell_type": "code",
   "execution_count": null,
   "metadata": {},
   "outputs": [],
   "source": [
    "def decir_pais(pais):\n",
    "    return f\"I am from {pais}\"\n",
    "\n",
    "print(decir_pais(\"Colombia\"))\n",
    "print(decir_pais(\"Japan\"))"
   ]
  },
  {
   "cell_type": "markdown",
   "metadata": {},
   "source": [
    "### 10. Write a function to convert degree Celsius temperature to Fahrenheit"
   ]
  },
  {
   "cell_type": "code",
   "execution_count": 7,
   "metadata": {},
   "outputs": [
    {
     "name": "stdout",
     "output_type": "stream",
     "text": [
      "Temperatura en Fahrenheit: 77.0\n"
     ]
    }
   ],
   "source": [
    "def celsius_a_fahrenheit(celsius):\n",
    "    fahrenheit = (celsius * 9/5) + 32\n",
    "    return fahrenheit\n",
    "\n",
    "print(\"Temperatura en Fahrenheit:\", celsius_a_fahrenheit(25))"
   ]
  }
 ],
 "metadata": {
  "kernelspec": {
   "display_name": "Python 3",
   "language": "python",
   "name": "python3"
  },
  "language_info": {
   "codemirror_mode": {
    "name": "ipython",
    "version": 3
   },
   "file_extension": ".py",
   "mimetype": "text/x-python",
   "name": "python",
   "nbconvert_exporter": "python",
   "pygments_lexer": "ipython3",
   "version": "3.11.5"
  }
 },
 "nbformat": 4,
 "nbformat_minor": 4
}
