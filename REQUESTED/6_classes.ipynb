{
 "cells": [
  {
   "cell_type": "markdown",
   "id": "c006b08e",
   "metadata": {},
   "source": [
    "## Homework – OOP with Animals\n",
    "\n",
    "**1. Base class design**  \n",
    "*Create a class named Animals with the following properties: name, age, gender, color, and species.*\n",
    "\n",
    "**The class must include:**\n",
    "- Getters for each property\n",
    "- A method to return all the information as a formatted string\n",
    "- A method to set the animal's weight in kilograms, by passing the value in pounds\n",
    "\n",
    "**2. Inheritance and unique attributes**  \n",
    "*Create four subclasses that inherit from Animals: Dog, Cat, Bird, and Cow.*\n",
    "\n",
    "**Each subclass should:**\n",
    "- Inherit all properties and methods from Animals\n",
    "- Add at least one unique attribute (e.g., breed for Dog, is_dairy for Cow, etc.)\n",
    "- Override the make_sound method with the correct animal sound\n",
    "- Add at least one unique method relevant to that animal (e.g., fetch for Dog, scratch for Cat)\n",
    "\n",
    "**3. Usage example**\n",
    "Write an example in which you create one object of each subclass, set their weight in pounds, and print their information using the class methods.\n",
    "\n",
    "**4. (Optional) Polymorphism**\n",
    "Write a function that takes a list of Animals objects (could be dogs, cats, etc.), and for each one prints their information and the sound they make.\n",
    "\n"
   ]
  }
 ],
 "metadata": {
  "language_info": {
   "name": "python"
  }
 },
 "nbformat": 4,
 "nbformat_minor": 5
}
